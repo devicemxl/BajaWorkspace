{
 "cells": [
  {
   "attachments": {},
   "cell_type": "markdown",
   "metadata": {},
   "source": [
    "# Problem Statement\n",
    "\n",
    "El proyecto trata de descubrir clientes potenciales para una distribuidora de material industrial."
   ]
  },
  {
   "attachments": {},
   "cell_type": "markdown",
   "metadata": {},
   "source": [
    "En esta etapa:\n",
    "\n",
    "El objetivo es: Mapeo de Productos\n",
    "\n",
    "Se tienen los siguientes datos crudos:\n",
    "* reportes de ventas anualizadas de 2020 a 2023\n"
   ]
  },
  {
   "attachments": {},
   "cell_type": "markdown",
   "metadata": {},
   "source": [
    "---\n",
    "\n",
    "## Mapeo de Productos"
   ]
  },
  {
   "cell_type": "code",
   "execution_count": 18,
   "metadata": {},
   "outputs": [],
   "source": [
    "import pandas as pd"
   ]
  },
  {
   "cell_type": "code",
   "execution_count": 19,
   "metadata": {},
   "outputs": [
    {
     "data": {
      "text/html": [
       "<div>\n",
       "<style scoped>\n",
       "    .dataframe tbody tr th:only-of-type {\n",
       "        vertical-align: middle;\n",
       "    }\n",
       "\n",
       "    .dataframe tbody tr th {\n",
       "        vertical-align: top;\n",
       "    }\n",
       "\n",
       "    .dataframe thead th {\n",
       "        text-align: right;\n",
       "    }\n",
       "</style>\n",
       "<table border=\"1\" class=\"dataframe\">\n",
       "  <thead>\n",
       "    <tr style=\"text-align: right;\">\n",
       "      <th></th>\n",
       "      <th>Código</th>\n",
       "      <th>Nombre</th>\n",
       "      <th>Cantidad</th>\n",
       "      <th>Unidad</th>\n",
       "      <th>Neto</th>\n",
       "      <th>Descuento</th>\n",
       "      <th>DescuentoNeto</th>\n",
       "      <th>Impuesto</th>\n",
       "      <th>Total</th>\n",
       "      <th>Year</th>\n",
       "      <th>UserRfc</th>\n",
       "      <th>ProveedorID</th>\n",
       "      <th>ProveedorName</th>\n",
       "    </tr>\n",
       "  </thead>\n",
       "  <tbody>\n",
       "    <tr>\n",
       "      <th>0</th>\n",
       "      <td>11184</td>\n",
       "      <td>LIGA #18</td>\n",
       "      <td>135</td>\n",
       "      <td>LIB</td>\n",
       "      <td>10462.5</td>\n",
       "      <td>0</td>\n",
       "      <td>10462.5</td>\n",
       "      <td>1674</td>\n",
       "      <td>12136.5</td>\n",
       "      <td>2020</td>\n",
       "      <td>GUOR86061511A</td>\n",
       "      <td>P043</td>\n",
       "      <td>ALMA ANGELINA PANTOJA GOMEZ</td>\n",
       "    </tr>\n",
       "  </tbody>\n",
       "</table>\n",
       "</div>"
      ],
      "text/plain": [
       "  Código    Nombre Cantidad Unidad     Neto Descuento DescuentoNeto Impuesto  \\\n",
       "0  11184  LIGA #18      135    LIB  10462.5         0       10462.5     1674   \n",
       "\n",
       "     Total  Year        UserRfc ProveedorID                ProveedorName  \n",
       "0  12136.5  2020  GUOR86061511A        P043  ALMA ANGELINA PANTOJA GOMEZ  "
      ]
     },
     "execution_count": 19,
     "metadata": {},
     "output_type": "execute_result"
    }
   ],
   "source": [
    "VentasRaw = pd.read_excel(\"Ventas.xlsx\")\n",
    "VentasRaw.head(1)"
   ]
  },
  {
   "cell_type": "code",
   "execution_count": 20,
   "metadata": {},
   "outputs": [
    {
     "data": {
      "text/html": [
       "<div>\n",
       "<style scoped>\n",
       "    .dataframe tbody tr th:only-of-type {\n",
       "        vertical-align: middle;\n",
       "    }\n",
       "\n",
       "    .dataframe tbody tr th {\n",
       "        vertical-align: top;\n",
       "    }\n",
       "\n",
       "    .dataframe thead th {\n",
       "        text-align: right;\n",
       "    }\n",
       "</style>\n",
       "<table border=\"1\" class=\"dataframe\">\n",
       "  <thead>\n",
       "    <tr style=\"text-align: right;\">\n",
       "      <th></th>\n",
       "      <th>Código</th>\n",
       "      <th>Nombre</th>\n",
       "      <th>Cantidad</th>\n",
       "      <th>Unidad</th>\n",
       "      <th>Neto</th>\n",
       "      <th>Descuento</th>\n",
       "      <th>DescuentoNeto</th>\n",
       "      <th>Impuesto</th>\n",
       "      <th>Total</th>\n",
       "      <th>Year</th>\n",
       "      <th>UserRfc</th>\n",
       "      <th>ProveedorID</th>\n",
       "      <th>ProveedorName</th>\n",
       "    </tr>\n",
       "  </thead>\n",
       "  <tbody>\n",
       "    <tr>\n",
       "      <th>0</th>\n",
       "      <td>11184</td>\n",
       "      <td>LIGA #18</td>\n",
       "      <td>135</td>\n",
       "      <td>LIB</td>\n",
       "      <td>10462.5</td>\n",
       "      <td>0</td>\n",
       "      <td>10462.5</td>\n",
       "      <td>1674</td>\n",
       "      <td>12136.5</td>\n",
       "      <td>2020</td>\n",
       "      <td>GUOR86061511A</td>\n",
       "      <td>P043</td>\n",
       "      <td>ALMA ANGELINA PANTOJA GOMEZ</td>\n",
       "    </tr>\n",
       "  </tbody>\n",
       "</table>\n",
       "</div>"
      ],
      "text/plain": [
       "  Código    Nombre Cantidad Unidad     Neto Descuento DescuentoNeto Impuesto  \\\n",
       "0  11184  LIGA #18      135    LIB  10462.5         0       10462.5     1674   \n",
       "\n",
       "     Total  Year        UserRfc ProveedorID                ProveedorName  \n",
       "0  12136.5  2020  GUOR86061511A        P043  ALMA ANGELINA PANTOJA GOMEZ  "
      ]
     },
     "execution_count": 20,
     "metadata": {},
     "output_type": "execute_result"
    }
   ],
   "source": [
    "ComprasRaw = pd.read_excel(\"Compras.xlsx\")\n",
    "ComprasRaw.head(1)"
   ]
  },
  {
   "attachments": {},
   "cell_type": "markdown",
   "metadata": {},
   "source": [
    "Para cruzar los datos solo se necesitan las siguientes variables:\n",
    "* Codigo\n",
    "* nombre\n",
    "* Unidad"
   ]
  },
  {
   "cell_type": "code",
   "execution_count": 21,
   "metadata": {},
   "outputs": [],
   "source": [
    "Rows = [\"Código\",\"Nombre\",\"Unidad\"]"
   ]
  },
  {
   "cell_type": "code",
   "execution_count": 22,
   "metadata": {},
   "outputs": [],
   "source": [
    "ComprasData = pd.DataFrame()\n",
    "for i in Rows:\n",
    "    ComprasData[i] = ComprasRaw[i]"
   ]
  },
  {
   "cell_type": "code",
   "execution_count": 23,
   "metadata": {},
   "outputs": [
    {
     "data": {
      "text/html": [
       "<div>\n",
       "<style scoped>\n",
       "    .dataframe tbody tr th:only-of-type {\n",
       "        vertical-align: middle;\n",
       "    }\n",
       "\n",
       "    .dataframe tbody tr th {\n",
       "        vertical-align: top;\n",
       "    }\n",
       "\n",
       "    .dataframe thead th {\n",
       "        text-align: right;\n",
       "    }\n",
       "</style>\n",
       "<table border=\"1\" class=\"dataframe\">\n",
       "  <thead>\n",
       "    <tr style=\"text-align: right;\">\n",
       "      <th></th>\n",
       "      <th>Código</th>\n",
       "      <th>Nombre</th>\n",
       "      <th>Unidad</th>\n",
       "    </tr>\n",
       "  </thead>\n",
       "  <tbody>\n",
       "    <tr>\n",
       "      <th>0</th>\n",
       "      <td>11184</td>\n",
       "      <td>LIGA #18</td>\n",
       "      <td>LIB</td>\n",
       "    </tr>\n",
       "  </tbody>\n",
       "</table>\n",
       "</div>"
      ],
      "text/plain": [
       "  Código    Nombre Unidad\n",
       "0  11184  LIGA #18    LIB"
      ]
     },
     "execution_count": 23,
     "metadata": {},
     "output_type": "execute_result"
    }
   ],
   "source": [
    "ComprasData.head(1)"
   ]
  },
  {
   "cell_type": "code",
   "execution_count": 24,
   "metadata": {},
   "outputs": [],
   "source": [
    "VentasData = pd.DataFrame()\n",
    "for i in Rows:\n",
    "    VentasData[i] = VentasRaw[i]"
   ]
  },
  {
   "cell_type": "code",
   "execution_count": 25,
   "metadata": {},
   "outputs": [
    {
     "data": {
      "text/html": [
       "<div>\n",
       "<style scoped>\n",
       "    .dataframe tbody tr th:only-of-type {\n",
       "        vertical-align: middle;\n",
       "    }\n",
       "\n",
       "    .dataframe tbody tr th {\n",
       "        vertical-align: top;\n",
       "    }\n",
       "\n",
       "    .dataframe thead th {\n",
       "        text-align: right;\n",
       "    }\n",
       "</style>\n",
       "<table border=\"1\" class=\"dataframe\">\n",
       "  <thead>\n",
       "    <tr style=\"text-align: right;\">\n",
       "      <th></th>\n",
       "      <th>Código</th>\n",
       "      <th>Nombre</th>\n",
       "      <th>Unidad</th>\n",
       "    </tr>\n",
       "  </thead>\n",
       "  <tbody>\n",
       "    <tr>\n",
       "      <th>0</th>\n",
       "      <td>11184</td>\n",
       "      <td>LIGA #18</td>\n",
       "      <td>LIB</td>\n",
       "    </tr>\n",
       "  </tbody>\n",
       "</table>\n",
       "</div>"
      ],
      "text/plain": [
       "  Código    Nombre Unidad\n",
       "0  11184  LIGA #18    LIB"
      ]
     },
     "execution_count": 25,
     "metadata": {},
     "output_type": "execute_result"
    }
   ],
   "source": [
    "VentasData.head(1)"
   ]
  },
  {
   "cell_type": "code",
   "execution_count": null,
   "metadata": {},
   "outputs": [],
   "source": []
  }
 ],
 "metadata": {
  "kernelspec": {
   "display_name": "Python 3",
   "language": "python",
   "name": "python3"
  },
  "language_info": {
   "codemirror_mode": {
    "name": "ipython",
    "version": 3
   },
   "file_extension": ".py",
   "mimetype": "text/x-python",
   "name": "python",
   "nbconvert_exporter": "python",
   "pygments_lexer": "ipython3",
   "version": "3.11.1"
  },
  "orig_nbformat": 4,
  "vscode": {
   "interpreter": {
    "hash": "aee8b7b246df8f9039afb4144a1f6fd8d2ca17a180786b69acc140d282b71a49"
   }
  }
 },
 "nbformat": 4,
 "nbformat_minor": 2
}
